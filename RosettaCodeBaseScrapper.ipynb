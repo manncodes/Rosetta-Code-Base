{
  "nbformat": 4,
  "nbformat_minor": 0,
  "metadata": {
    "colab": {
      "name": "RosettaCodeBaseScrapper.ipynb",
      "provenance": [],
      "collapsed_sections": []
    },
    "kernelspec": {
      "name": "python3",
      "display_name": "Python 3"
    }
  },
  "cells": [
    {
      "cell_type": "code",
      "metadata": {
        "id": "FzZLysx5O41r"
      },
      "source": [
        "import pandas as pd\r\n",
        "import pprint as pp\r\n",
        "import time\r\n",
        "from multiprocessing.pool import ThreadPool as Pool\r\n",
        "import concurrent\r\n",
        "# import ast"
      ],
      "execution_count": 1,
      "outputs": []
    },
    {
      "cell_type": "code",
      "metadata": {
        "id": "I7uaCaycAqZJ"
      },
      "source": [
        "import requests\r\n",
        "from bs4 import BeautifulSoup\r\n",
        "URL  = \"http://www.rosettacode.org/wiki/Category:Programming_Tasks\"\r\n",
        "r=requests.get(URL)\r\n",
        "soup = BeautifulSoup(r.content, 'html5lib')\r\n",
        "print(soup.prettify()) "
      ],
      "execution_count": null,
      "outputs": []
    },
    {
      "cell_type": "code",
      "metadata": {
        "id": "xmIu4mh5BGIV"
      },
      "source": [
        "programming_task_links = []\r\n",
        "table = soup.find('div',attrs={'id':'mw-pages'})\r\n",
        "# print(table)\r\n",
        "idx =0\r\n",
        "for li in table.findAll('li'):\r\n",
        "  task = 'http://www.rosettacode.org'+li.a['href']\r\n",
        "  print( str(idx)+ \":\"+ str(task))\r\n",
        "  idx=idx+1\r\n",
        "  programming_task_links.append(task)"
      ],
      "execution_count": null,
      "outputs": []
    },
    {
      "cell_type": "code",
      "metadata": {
        "colab": {
          "base_uri": "https://localhost:8080/"
        },
        "id": "p6wRJhb9C57f",
        "outputId": "b098e15c-1a13-48d0-d10e-abe33a85cb34"
      },
      "source": [
        "len(programming_task_links)"
      ],
      "execution_count": 4,
      "outputs": [
        {
          "output_type": "execute_result",
          "data": {
            "text/plain": [
              "1081"
            ]
          },
          "metadata": {
            "tags": []
          },
          "execution_count": 4
        }
      ]
    },
    {
      "cell_type": "code",
      "metadata": {
        "id": "XQrLwBfpEZly"
      },
      "source": [
        "# # individual task scrapping\r\n",
        "# task = {}\r\n",
        "# URL = \"http://www.rosettacode.org/wiki/100_prisoners\"\r\n",
        "# r=requests.get(URL)\r\n",
        "# task_soup = BeautifulSoup(r.content, 'html5lib')\r\n",
        "# task['task_name'] =task_soup.find('h1',attrs={'id':'firstHeading'}).text\r\n",
        "# task['task_info']= task_soup.find('div',attrs={'id':'mw-content-text'}).text.split('Contents')[0]\r\n",
        "\r\n",
        "# langs = ['c','cpp','','java','python']\r\n",
        "\r\n",
        "# for lang in langs:\r\n",
        "#   langblocks = task_soup.findAll('pre',attrs={'class':lang+' highlighted_source'})\r\n",
        "#   for block in langblocks: \r\n",
        "#     task[lang] = block.text.encode('ascii', 'ignore').decode('unicode_escape').replace('\\t',' ')\r\n",
        "#     # task[lang] = ast.literal_eval(block.text.encode('ascii', 'ignore').decode('unicode_escape'))\r\n",
        "\r\n",
        "# #use this as the dict labels\r\n",
        "# # for lang in task_code:\r\n",
        "# #   lang_name = lang['id']\r\n",
        "# #   lang_code = \r\n",
        "# pp.pprint(task)"
      ],
      "execution_count": null,
      "outputs": []
    },
    {
      "cell_type": "code",
      "metadata": {
        "id": "a47HCPPYawrl"
      },
      "source": [
        "all_tasks = {}"
      ],
      "execution_count": 7,
      "outputs": []
    },
    {
      "cell_type": "code",
      "metadata": {
        "id": "IuE_-hfYe7PD"
      },
      "source": [
        "## tried multithreading,not working :( ISSUE : Same item is being processed again by worker function.\r\n",
        "# pool_size = 5\r\n",
        "# def worker(task_URL):\r\n",
        "#     try:\r\n",
        "#         start_time = time.time()\r\n",
        "#         task={}\r\n",
        "#         task_r = requests.get(task_URL)\r\n",
        "#         task_soup = BeautifulSoup(task_r.content,'html5lib')\r\n",
        "#         task['task_name'] =task_soup.find('h1',attrs={'id':'firstHeading'})\r\n",
        "#         task['task_info']= task_soup.find('div',attrs={'id':'mw-content-text'}).text.split('Contents')[0]\r\n",
        "#         langs = ['c','cpp','','java','python']\r\n",
        "#         for lang in langs:\r\n",
        "#           langblocks = task_soup.findAll('pre',attrs={'class':lang+' highlighted_source'})\r\n",
        "#           for block in langblocks: \r\n",
        "#             task[lang] = block.text.encode('ascii', 'ignore').decode('unicode_escape').replace('\\t','    ')\r\n",
        "#             # task[lang] = ast.literal_eval(block.text.encode('ascii', 'ignore').decode('unicode_escape'))\r\n",
        "#         end_time = time.time()\r\n",
        "#         pp.pprint(str(task['task_name'])+str(end_time - start_time))\r\n",
        "#         all_tasks[task['task_name']] = task\r\n",
        "#     except:\r\n",
        "#         print('error with item')\r\n",
        "\r\n",
        "# executor = concurrent.futures.ProcessPoolExecutor(5)\r\n",
        "# futures = [executor.submit(worker, task_URL) for task_URL in programming_task_links]\r\n",
        "# concurrent.futures.wait(futures)"
      ],
      "execution_count": null,
      "outputs": []
    },
    {
      "cell_type": "code",
      "metadata": {
        "id": "Kf6KJxE1C9If"
      },
      "source": [
        "for task_URL in programming_task_links[409:]:\r\n",
        "  start_time = time.time()\r\n",
        "  task={}\r\n",
        "  task_r = requests.get(task_URL)\r\n",
        "  task_soup = BeautifulSoup(task_r.content,'html5lib')\r\n",
        "  task['task_name'] =task_soup.find('h1',attrs={'id':'firstHeading'}).text\r\n",
        "  task['task_info']= task_soup.find('div',attrs={'id':'mw-content-text'}).text.split('Contents')[0]\r\n",
        "  langs = ['c','cpp','','java','python']\r\n",
        "  for lang in langs:\r\n",
        "    langblocks = task_soup.findAll('pre',attrs={'class':lang+' highlighted_source'})\r\n",
        "    for block in langblocks: \r\n",
        "      try:\r\n",
        "        task[lang] = block.text.encode('ascii', 'ignore').decode('unicode_escape').replace('\\t','    ')\r\n",
        "        # task[lang] = ast.literal_eval(block.text.encode('ascii', 'ignore').decode('unicode_escape'))\r\n",
        "      except:\r\n",
        "        print(\"error encoding\")\r\n",
        "  end_time = time.time()\r\n",
        "  print(str(task['task_name'])+' : '+str(end_time - start_time))\r\n",
        "  all_tasks[task['task_name']] = task\r\n",
        "\r\n",
        "  "
      ],
      "execution_count": null,
      "outputs": []
    },
    {
      "cell_type": "code",
      "metadata": {
        "id": "ZoKbOf4yoM5s"
      },
      "source": [
        "pp.pprint(all_tasks)"
      ],
      "execution_count": null,
      "outputs": []
    },
    {
      "cell_type": "code",
      "metadata": {
        "id": "4Jahgc9wx7sZ"
      },
      "source": [
        "list_of_all_task = [value for value in all_tasks.values()]"
      ],
      "execution_count": 24,
      "outputs": []
    },
    {
      "cell_type": "code",
      "metadata": {
        "id": "Z2jFKyP3yv_4"
      },
      "source": [
        "df = pd.DataFrame.from_dict(list_of_all_task)"
      ],
      "execution_count": 29,
      "outputs": []
    },
    {
      "cell_type": "code",
      "metadata": {
        "id": "JcYZq8xQ0T5Q"
      },
      "source": [
        "df = df.iloc[2:]"
      ],
      "execution_count": 34,
      "outputs": []
    },
    {
      "cell_type": "code",
      "metadata": {
        "id": "TqBGdN130fF8"
      },
      "source": [
        "df"
      ],
      "execution_count": null,
      "outputs": []
    },
    {
      "cell_type": "code",
      "metadata": {
        "id": "0jm_maNL1A4D"
      },
      "source": [
        "df.to_csv('rosettaCodeBank.csv',index=False)\r\n",
        "df.to_json('rosettaCodeBank.json')"
      ],
      "execution_count": 39,
      "outputs": []
    }
  ]
}